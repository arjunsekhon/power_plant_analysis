{
 "cells": [
  {
   "cell_type": "code",
   "execution_count": 1,
   "metadata": {},
   "outputs": [],
   "source": [
    "import pandas as pd"
   ]
  },
  {
   "cell_type": "code",
   "execution_count": 2,
   "metadata": {},
   "outputs": [],
   "source": [
    "df_wind = pd.read_csv(\"data/raw/wind_plants.csv\")\n",
    "df_gas = pd.read_csv(\"data/raw/gas_plants.csv\")\n",
    "df_gas_fr = pd.read_csv(\"data/raw/gas_fr_plants.csv\")\n",
    "df_db = pd.read_csv(\"data/db/database.csv\")"
   ]
  },
  {
   "cell_type": "code",
   "execution_count": 3,
   "metadata": {},
   "outputs": [
    {
     "name": "stdout",
     "output_type": "stream",
     "text": [
      "<class 'pandas.core.frame.DataFrame'>\n",
      "RangeIndex: 957 entries, 0 to 956\n",
      "Data columns (total 5 columns):\n",
      " #   Column      Non-Null Count  Dtype  \n",
      "---  ------      --------------  -----  \n",
      " 0   Date        957 non-null    object \n",
      " 1   Country     957 non-null    object \n",
      " 2   Technology  957 non-null    object \n",
      " 3   SiteName    957 non-null    object \n",
      " 4   Volume      957 non-null    float64\n",
      "dtypes: float64(1), object(4)\n",
      "memory usage: 37.5+ KB\n"
     ]
    }
   ],
   "source": [
    "df_wind.info()"
   ]
  },
  {
   "cell_type": "code",
   "execution_count": 4,
   "metadata": {},
   "outputs": [
    {
     "name": "stdout",
     "output_type": "stream",
     "text": [
      "<class 'pandas.core.frame.DataFrame'>\n",
      "RangeIndex: 962 entries, 0 to 961\n",
      "Data columns (total 5 columns):\n",
      " #   Column      Non-Null Count  Dtype \n",
      "---  ------      --------------  ----- \n",
      " 0   Date        962 non-null    object\n",
      " 1   Country     962 non-null    object\n",
      " 2   Technology  962 non-null    object\n",
      " 3   SiteName    962 non-null    object\n",
      " 4   Volume      962 non-null    int64 \n",
      "dtypes: int64(1), object(4)\n",
      "memory usage: 37.7+ KB\n"
     ]
    }
   ],
   "source": [
    "df_gas.info()"
   ]
  },
  {
   "cell_type": "code",
   "execution_count": 5,
   "metadata": {},
   "outputs": [
    {
     "name": "stdout",
     "output_type": "stream",
     "text": [
      "<class 'pandas.core.frame.DataFrame'>\n",
      "RangeIndex: 962 entries, 0 to 961\n",
      "Data columns (total 5 columns):\n",
      " #   Column      Non-Null Count  Dtype  \n",
      "---  ------      --------------  -----  \n",
      " 0   Date        481 non-null    object \n",
      " 1   Country     481 non-null    object \n",
      " 2   Technology  481 non-null    object \n",
      " 3   SiteName    481 non-null    object \n",
      " 4   Volume      475 non-null    float64\n",
      "dtypes: float64(1), object(4)\n",
      "memory usage: 37.7+ KB\n"
     ]
    }
   ],
   "source": [
    "df_gas_fr.info()"
   ]
  },
  {
   "cell_type": "markdown",
   "metadata": {},
   "source": [
    "Understand the data - we have 5 columns\n",
    "- 3 categorical dimension columns (Country, Technology, SiteName)\n",
    "- 1 date dimension column (Date)\n",
    "- 1 measure/fact column (Volume)\n",
    "\n",
    "- Date is an object\n",
    "- Volume is a float or int\n",
    "- Gas and Gas_fr has 962 rows and Wind has 957 rows"
   ]
  },
  {
   "cell_type": "code",
   "execution_count": 6,
   "metadata": {},
   "outputs": [
    {
     "data": {
      "text/html": [
       "<div>\n",
       "<style scoped>\n",
       "    .dataframe tbody tr th:only-of-type {\n",
       "        vertical-align: middle;\n",
       "    }\n",
       "\n",
       "    .dataframe tbody tr th {\n",
       "        vertical-align: top;\n",
       "    }\n",
       "\n",
       "    .dataframe thead th {\n",
       "        text-align: right;\n",
       "    }\n",
       "</style>\n",
       "<table border=\"1\" class=\"dataframe\">\n",
       "  <thead>\n",
       "    <tr style=\"text-align: right;\">\n",
       "      <th></th>\n",
       "      <th>Date</th>\n",
       "      <th>Country</th>\n",
       "      <th>Technology</th>\n",
       "      <th>SiteName</th>\n",
       "      <th>Volume</th>\n",
       "    </tr>\n",
       "  </thead>\n",
       "  <tbody>\n",
       "    <tr>\n",
       "      <th>0</th>\n",
       "      <td>01/01/2024</td>\n",
       "      <td>GB</td>\n",
       "      <td>Gas</td>\n",
       "      <td>Pembroke-1</td>\n",
       "      <td>6570</td>\n",
       "    </tr>\n",
       "  </tbody>\n",
       "</table>\n",
       "</div>"
      ],
      "text/plain": [
       "         Date Country  Technology    SiteName  Volume\n",
       "0  01/01/2024       GB        Gas  Pembroke-1    6570"
      ]
     },
     "execution_count": 6,
     "metadata": {},
     "output_type": "execute_result"
    }
   ],
   "source": [
    "df_gas.head(1)"
   ]
  },
  {
   "cell_type": "code",
   "execution_count": 7,
   "metadata": {},
   "outputs": [
    {
     "data": {
      "text/html": [
       "<div>\n",
       "<style scoped>\n",
       "    .dataframe tbody tr th:only-of-type {\n",
       "        vertical-align: middle;\n",
       "    }\n",
       "\n",
       "    .dataframe tbody tr th {\n",
       "        vertical-align: top;\n",
       "    }\n",
       "\n",
       "    .dataframe thead th {\n",
       "        text-align: right;\n",
       "    }\n",
       "</style>\n",
       "<table border=\"1\" class=\"dataframe\">\n",
       "  <thead>\n",
       "    <tr style=\"text-align: right;\">\n",
       "      <th></th>\n",
       "      <th>Date</th>\n",
       "      <th>Country</th>\n",
       "      <th>Technology</th>\n",
       "      <th>SiteName</th>\n",
       "      <th>Volume</th>\n",
       "    </tr>\n",
       "  </thead>\n",
       "  <tbody>\n",
       "    <tr>\n",
       "      <th>0</th>\n",
       "      <td>01/01/2024</td>\n",
       "      <td>FR</td>\n",
       "      <td>Gas</td>\n",
       "      <td>Blenod-5</td>\n",
       "      <td>6753.0</td>\n",
       "    </tr>\n",
       "  </tbody>\n",
       "</table>\n",
       "</div>"
      ],
      "text/plain": [
       "         Date Country  Technology  SiteName  Volume\n",
       "0  01/01/2024       FR        Gas  Blenod-5  6753.0"
      ]
     },
     "execution_count": 7,
     "metadata": {},
     "output_type": "execute_result"
    }
   ],
   "source": [
    "df_gas_fr.head(1)"
   ]
  },
  {
   "cell_type": "code",
   "execution_count": 8,
   "metadata": {},
   "outputs": [
    {
     "data": {
      "text/html": [
       "<div>\n",
       "<style scoped>\n",
       "    .dataframe tbody tr th:only-of-type {\n",
       "        vertical-align: middle;\n",
       "    }\n",
       "\n",
       "    .dataframe tbody tr th {\n",
       "        vertical-align: top;\n",
       "    }\n",
       "\n",
       "    .dataframe thead th {\n",
       "        text-align: right;\n",
       "    }\n",
       "</style>\n",
       "<table border=\"1\" class=\"dataframe\">\n",
       "  <thead>\n",
       "    <tr style=\"text-align: right;\">\n",
       "      <th></th>\n",
       "      <th>Date</th>\n",
       "      <th>Country</th>\n",
       "      <th>Technology</th>\n",
       "      <th>SiteName</th>\n",
       "      <th>Volume</th>\n",
       "    </tr>\n",
       "  </thead>\n",
       "  <tbody>\n",
       "    <tr>\n",
       "      <th>0</th>\n",
       "      <td>01/01/2024</td>\n",
       "      <td>GB</td>\n",
       "      <td>Wind</td>\n",
       "      <td>Hornsea-1</td>\n",
       "      <td>260.166079</td>\n",
       "    </tr>\n",
       "  </tbody>\n",
       "</table>\n",
       "</div>"
      ],
      "text/plain": [
       "         Date Country  Technology   SiteName      Volume\n",
       "0  01/01/2024       GB      Wind   Hornsea-1  260.166079"
      ]
     },
     "execution_count": 8,
     "metadata": {},
     "output_type": "execute_result"
    }
   ],
   "source": [
    "df_wind.head(1)"
   ]
  },
  {
   "cell_type": "code",
   "execution_count": 9,
   "metadata": {},
   "outputs": [
    {
     "name": "stdout",
     "output_type": "stream",
     "text": [
      "Date          0\n",
      "Country       0\n",
      "Technology    0\n",
      "SiteName      0\n",
      "Volume        0\n",
      "dtype: int64\n",
      "Date          481\n",
      "Country       481\n",
      "Technology    481\n",
      "SiteName      481\n",
      "Volume        487\n",
      "dtype: int64\n",
      "Date          0\n",
      "Country       0\n",
      "Technology    0\n",
      "SiteName      0\n",
      "Volume        0\n",
      "dtype: int64\n"
     ]
    }
   ],
   "source": [
    "# Check for missing values\n",
    "print(df_gas.isna().sum())\n",
    "print(df_gas_fr.isna().sum())\n",
    "print(df_wind.isna().sum())\n"
   ]
  },
  {
   "cell_type": "code",
   "execution_count": 10,
   "metadata": {},
   "outputs": [],
   "source": [
    "# Fix space in column names (trailing space found on Country column but apply to all - cannot predict future incoming files)\n",
    "df_gas.columns = df_gas.columns.str.strip()\n",
    "df_gas_fr.columns = df_gas_fr.columns.str.strip()\n",
    "df_wind.columns = df_wind.columns.str.strip()\n",
    "# First convert the Date to a datetime object\n",
    "df_gas[\"Date\"] = pd.to_datetime(df_gas[\"Date\"], dayfirst=True, errors=\"coerce\")\n",
    "df_gas_fr[\"Date\"] = pd.to_datetime(df_gas_fr[\"Date\"], dayfirst=True, errors=\"coerce\")\n",
    "df_wind[\"Date\"] = pd.to_datetime(df_wind[\"Date\"], dayfirst=True, errors=\"coerce\")\n",
    "# Convert Volume to float\n",
    "df_gas[\"Volume\"] = df_gas[\"Volume\"].astype(float)\n",
    "df_gas_fr[\"Volume\"] = df_gas_fr[\"Volume\"].astype(float)\n",
    "df_wind[\"Volume\"] = df_wind[\"Volume\"].astype(float)\n",
    "# Fill missing Volume values with 0 - as requested\n",
    "df_gas[\"Volume\"] = df_gas[\"Volume\"].fillna(0)\n",
    "df_gas_fr[\"Volume\"] = df_gas_fr[\"Volume\"].fillna(0)\n",
    "df_wind[\"Volume\"] = df_wind[\"Volume\"].fillna(0)\n",
    "# Drop rows where any dimensions (date or categorical) are blank\n",
    "df_gas = df_gas.dropna(subset=[\"Date\", \"Country\", \"Technology\", \"SiteName\"])\n",
    "df_gas_fr = df_gas_fr.dropna(subset=[\"Date\", \"Country\", \"Technology\", \"SiteName\"])\n",
    "df_wind = df_wind.dropna(subset=[\"Date\", \"Country\", \"Technology\", \"SiteName\"])\n",
    "# Drop any (exact) duplicates - not mentioned but appears sensible to do\n",
    "df_gas = df_gas.drop_duplicates()\n",
    "df_gas_fr = df_gas_fr.drop_duplicates()\n",
    "df_wind = df_wind.drop_duplicates()\n",
    "# Note ignore trailing space on Wind technology as the database file has the trailing space - need to ask if this should be removed"
   ]
  },
  {
   "cell_type": "code",
   "execution_count": 11,
   "metadata": {},
   "outputs": [
    {
     "name": "stdout",
     "output_type": "stream",
     "text": [
      "Date          0\n",
      "Country       0\n",
      "Technology    0\n",
      "SiteName      0\n",
      "Volume        0\n",
      "dtype: int64\n",
      "Date          0\n",
      "Country       0\n",
      "Technology    0\n",
      "SiteName      0\n",
      "Volume        0\n",
      "dtype: int64\n",
      "Date          0\n",
      "Country       0\n",
      "Technology    0\n",
      "SiteName      0\n",
      "Volume        0\n",
      "dtype: int64\n"
     ]
    }
   ],
   "source": [
    "# Check the data is now clean\n",
    "print(df_gas.isna().sum())\n",
    "print(df_gas_fr.isna().sum())\n",
    "print(df_wind.isna().sum())"
   ]
  }
 ],
 "metadata": {
  "kernelspec": {
   "display_name": ".venv",
   "language": "python",
   "name": "python3"
  },
  "language_info": {
   "codemirror_mode": {
    "name": "ipython",
    "version": 3
   },
   "file_extension": ".py",
   "mimetype": "text/x-python",
   "name": "python",
   "nbconvert_exporter": "python",
   "pygments_lexer": "ipython3",
   "version": "3.11.7"
  }
 },
 "nbformat": 4,
 "nbformat_minor": 2
}
